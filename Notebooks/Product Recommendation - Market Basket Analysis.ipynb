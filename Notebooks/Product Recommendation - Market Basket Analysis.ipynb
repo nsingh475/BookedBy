{
 "cells": [
  {
   "cell_type": "code",
   "execution_count": 1,
   "id": "430f06a8",
   "metadata": {},
   "outputs": [],
   "source": [
    "import pandas as pd\n",
    "from mlxtend.frequent_patterns import apriori, association_rules\n",
    "from mlxtend.preprocessing import TransactionEncoder"
   ]
  },
  {
   "cell_type": "code",
   "execution_count": 2,
   "id": "375dca8d",
   "metadata": {},
   "outputs": [
    {
     "data": {
      "text/html": [
       "<div>\n",
       "<style scoped>\n",
       "    .dataframe tbody tr th:only-of-type {\n",
       "        vertical-align: middle;\n",
       "    }\n",
       "\n",
       "    .dataframe tbody tr th {\n",
       "        vertical-align: top;\n",
       "    }\n",
       "\n",
       "    .dataframe thead th {\n",
       "        text-align: right;\n",
       "    }\n",
       "</style>\n",
       "<table border=\"1\" class=\"dataframe\">\n",
       "  <thead>\n",
       "    <tr style=\"text-align: right;\">\n",
       "      <th></th>\n",
       "      <th>Transaction ID</th>\n",
       "      <th>Customer ID</th>\n",
       "      <th>Product ID</th>\n",
       "      <th>Product Category</th>\n",
       "      <th>Purchase Amount</th>\n",
       "      <th>Purchase Date</th>\n",
       "    </tr>\n",
       "  </thead>\n",
       "  <tbody>\n",
       "    <tr>\n",
       "      <th>0</th>\n",
       "      <td>1</td>\n",
       "      <td>238</td>\n",
       "      <td>45</td>\n",
       "      <td>Sensitive Skin Treatment</td>\n",
       "      <td>25</td>\n",
       "      <td>2024-03-24</td>\n",
       "    </tr>\n",
       "    <tr>\n",
       "      <th>1</th>\n",
       "      <td>1</td>\n",
       "      <td>238</td>\n",
       "      <td>35</td>\n",
       "      <td>Lip Care</td>\n",
       "      <td>15</td>\n",
       "      <td>2024-03-24</td>\n",
       "    </tr>\n",
       "    <tr>\n",
       "      <th>2</th>\n",
       "      <td>1</td>\n",
       "      <td>238</td>\n",
       "      <td>34</td>\n",
       "      <td>Lip Care</td>\n",
       "      <td>5</td>\n",
       "      <td>2024-03-24</td>\n",
       "    </tr>\n",
       "    <tr>\n",
       "      <th>3</th>\n",
       "      <td>1</td>\n",
       "      <td>238</td>\n",
       "      <td>4</td>\n",
       "      <td>Cleansers</td>\n",
       "      <td>20</td>\n",
       "      <td>2024-03-24</td>\n",
       "    </tr>\n",
       "    <tr>\n",
       "      <th>4</th>\n",
       "      <td>1</td>\n",
       "      <td>238</td>\n",
       "      <td>50</td>\n",
       "      <td>Pore Care</td>\n",
       "      <td>20</td>\n",
       "      <td>2024-03-24</td>\n",
       "    </tr>\n",
       "  </tbody>\n",
       "</table>\n",
       "</div>"
      ],
      "text/plain": [
       "   Transaction ID  Customer ID  Product ID          Product Category  \\\n",
       "0               1          238          45  Sensitive Skin Treatment   \n",
       "1               1          238          35                  Lip Care   \n",
       "2               1          238          34                  Lip Care   \n",
       "3               1          238           4                 Cleansers   \n",
       "4               1          238          50                 Pore Care   \n",
       "\n",
       "   Purchase Amount Purchase Date  \n",
       "0               25    2024-03-24  \n",
       "1               15    2024-03-24  \n",
       "2                5    2024-03-24  \n",
       "3               20    2024-03-24  \n",
       "4               20    2024-03-24  "
      ]
     },
     "execution_count": 2,
     "metadata": {},
     "output_type": "execute_result"
    }
   ],
   "source": [
    "# Load your dataset\n",
    "df = pd.read_csv(\"Data/raw_data/Transaction.csv\")\n",
    "df.head(5)"
   ]
  },
  {
   "cell_type": "code",
   "execution_count": 3,
   "id": "0626e4f0",
   "metadata": {},
   "outputs": [],
   "source": [
    "# Prepare transaction data\n",
    "basket_data = df.groupby(\"Transaction ID\")[\"Product ID\"].apply(list).tolist()"
   ]
  },
  {
   "cell_type": "code",
   "execution_count": 4,
   "id": "443518c0",
   "metadata": {},
   "outputs": [],
   "source": [
    "# Encode transaction list\n",
    "te = TransactionEncoder()\n",
    "te_ary = te.fit(basket_data).transform(basket_data)\n",
    "basket_df = pd.DataFrame(te_ary, columns=te.columns_)"
   ]
  },
  {
   "cell_type": "code",
   "execution_count": 5,
   "id": "66735161",
   "metadata": {},
   "outputs": [],
   "source": [
    "# Apply Apriori algorithm\n",
    "frequent_itemsets = apriori(basket_df, min_support=0.01, use_colnames=True)"
   ]
  },
  {
   "cell_type": "code",
   "execution_count": 6,
   "id": "73ecb062",
   "metadata": {},
   "outputs": [],
   "source": [
    "# Generate association rules\n",
    "rules = association_rules(frequent_itemsets, metric=\"lift\", min_threshold=1.0)"
   ]
  },
  {
   "cell_type": "code",
   "execution_count": 7,
   "id": "bb4e6131",
   "metadata": {},
   "outputs": [
    {
     "name": "stdout",
     "output_type": "stream",
     "text": [
      "   antecedents consequents  support  confidence      lift\n",
      "33        (39)        (40)   0.0114    0.156593  2.205541\n",
      "32        (40)        (39)   0.0114    0.160563  2.205541\n",
      "37        (50)        (49)   0.0116    0.156757  2.009702\n",
      "36        (49)        (50)   0.0116    0.148718  2.009702\n",
      "23        (49)        (33)   0.0148    0.189744  1.594484\n",
      "22        (33)        (49)   0.0148    0.124370  1.594484\n",
      "6         (32)        (31)   0.0212    0.188948  1.518877\n",
      "7         (31)        (32)   0.0212    0.170418  1.518877\n",
      "11        (31)        (49)   0.0144    0.115756  1.484047\n",
      "10        (49)        (31)   0.0144    0.184615  1.484047\n"
     ]
    }
   ],
   "source": [
    "# Display sorted rules\n",
    "rules.sort_values(by=\"lift\", ascending=False, inplace=True)\n",
    "print(rules[['antecedents', 'consequents', 'support', 'confidence', 'lift']].head(10))"
   ]
  },
  {
   "cell_type": "markdown",
   "id": "823c373e",
   "metadata": {},
   "source": [
    "### Looking at the Rules at SKU Level "
   ]
  },
  {
   "cell_type": "code",
   "execution_count": 8,
   "id": "cdad7239",
   "metadata": {},
   "outputs": [
    {
     "data": {
      "text/html": [
       "<div>\n",
       "<style scoped>\n",
       "    .dataframe tbody tr th:only-of-type {\n",
       "        vertical-align: middle;\n",
       "    }\n",
       "\n",
       "    .dataframe tbody tr th {\n",
       "        vertical-align: top;\n",
       "    }\n",
       "\n",
       "    .dataframe thead th {\n",
       "        text-align: right;\n",
       "    }\n",
       "</style>\n",
       "<table border=\"1\" class=\"dataframe\">\n",
       "  <thead>\n",
       "    <tr style=\"text-align: right;\">\n",
       "      <th></th>\n",
       "      <th>Product ID</th>\n",
       "      <th>Product Category</th>\n",
       "      <th>SKU</th>\n",
       "      <th>Product Price ($)</th>\n",
       "    </tr>\n",
       "  </thead>\n",
       "  <tbody>\n",
       "    <tr>\n",
       "      <th>0</th>\n",
       "      <td>1</td>\n",
       "      <td>Cleansers</td>\n",
       "      <td>Gel Cleansers</td>\n",
       "      <td>20</td>\n",
       "    </tr>\n",
       "    <tr>\n",
       "      <th>1</th>\n",
       "      <td>2</td>\n",
       "      <td>Cleansers</td>\n",
       "      <td>Foam Cleanser</td>\n",
       "      <td>15</td>\n",
       "    </tr>\n",
       "    <tr>\n",
       "      <th>2</th>\n",
       "      <td>3</td>\n",
       "      <td>Cleansers</td>\n",
       "      <td>Oil Cleanser</td>\n",
       "      <td>20</td>\n",
       "    </tr>\n",
       "    <tr>\n",
       "      <th>3</th>\n",
       "      <td>4</td>\n",
       "      <td>Cleansers</td>\n",
       "      <td>Micellar Water</td>\n",
       "      <td>20</td>\n",
       "    </tr>\n",
       "    <tr>\n",
       "      <th>4</th>\n",
       "      <td>5</td>\n",
       "      <td>Cleansers</td>\n",
       "      <td>Cleansing Balm</td>\n",
       "      <td>25</td>\n",
       "    </tr>\n",
       "  </tbody>\n",
       "</table>\n",
       "</div>"
      ],
      "text/plain": [
       "   Product ID Product Category             SKU  Product Price ($)\n",
       "0           1        Cleansers   Gel Cleansers                 20\n",
       "1           2        Cleansers   Foam Cleanser                 15\n",
       "2           3        Cleansers    Oil Cleanser                 20\n",
       "3           4        Cleansers  Micellar Water                 20\n",
       "4           5        Cleansers  Cleansing Balm                 25"
      ]
     },
     "execution_count": 8,
     "metadata": {},
     "output_type": "execute_result"
    }
   ],
   "source": [
    "product_df = pd.read_csv('Data/raw_data/Product.csv')\n",
    "product_df.head(5)"
   ]
  },
  {
   "cell_type": "code",
   "execution_count": 9,
   "id": "c6df6690",
   "metadata": {},
   "outputs": [],
   "source": [
    "# Step 1: Flatten antecedents and consequents\n",
    "rules['antecedent_ids'] = rules['antecedents'].apply(lambda x: list(x))\n",
    "rules['consequent_ids'] = rules['consequents'].apply(lambda x: list(x))"
   ]
  },
  {
   "cell_type": "code",
   "execution_count": 10,
   "id": "f704bf6c",
   "metadata": {},
   "outputs": [],
   "source": [
    "# Step 2: Explode lists for mapping\n",
    "exploded_ante = rules[['antecedent_ids']].explode('antecedent_ids')\n",
    "exploded_cons = rules[['consequent_ids']].explode('consequent_ids')"
   ]
  },
  {
   "cell_type": "code",
   "execution_count": 11,
   "id": "b8e1f6e2",
   "metadata": {},
   "outputs": [],
   "source": [
    "# Step 3: Map Product ID → SKU using a dictionary or merge\n",
    "id_to_sku = product_df.set_index('Product ID')['SKU'].to_dict()\n",
    "exploded_ante['SKU'] = exploded_ante['antecedent_ids'].map(id_to_sku)\n",
    "exploded_cons['SKU'] = exploded_cons['consequent_ids'].map(id_to_sku)"
   ]
  },
  {
   "cell_type": "code",
   "execution_count": 12,
   "id": "1513e5c8",
   "metadata": {},
   "outputs": [],
   "source": [
    "# Step 4: Re-aggregate SKUs\n",
    "ante_sku = exploded_ante.groupby(level=0)['SKU'].apply(list)\n",
    "cons_sku = exploded_cons.groupby(level=0)['SKU'].apply(list)"
   ]
  },
  {
   "cell_type": "code",
   "execution_count": 13,
   "id": "ef314a1a",
   "metadata": {},
   "outputs": [],
   "source": [
    "# Step 5: Add back to rules DataFrame\n",
    "rules['antecedent_skus'] = ante_sku\n",
    "rules['consequent_skus'] = cons_sku"
   ]
  },
  {
   "cell_type": "code",
   "execution_count": 17,
   "id": "3cbe3554",
   "metadata": {},
   "outputs": [
    {
     "data": {
      "text/html": [
       "<div>\n",
       "<style scoped>\n",
       "    .dataframe tbody tr th:only-of-type {\n",
       "        vertical-align: middle;\n",
       "    }\n",
       "\n",
       "    .dataframe tbody tr th {\n",
       "        vertical-align: top;\n",
       "    }\n",
       "\n",
       "    .dataframe thead th {\n",
       "        text-align: right;\n",
       "    }\n",
       "</style>\n",
       "<table border=\"1\" class=\"dataframe\">\n",
       "  <thead>\n",
       "    <tr style=\"text-align: right;\">\n",
       "      <th></th>\n",
       "      <th>antecedent_skus</th>\n",
       "      <th>consequent_skus</th>\n",
       "      <th>support</th>\n",
       "      <th>confidence</th>\n",
       "      <th>lift</th>\n",
       "    </tr>\n",
       "  </thead>\n",
       "  <tbody>\n",
       "    <tr>\n",
       "      <th>33</th>\n",
       "      <td>[Pimple Patches]</td>\n",
       "      <td>[Acne Spot Treatment]</td>\n",
       "      <td>0.0114</td>\n",
       "      <td>0.156593</td>\n",
       "      <td>2.205541</td>\n",
       "    </tr>\n",
       "    <tr>\n",
       "      <th>32</th>\n",
       "      <td>[Acne Spot Treatment]</td>\n",
       "      <td>[Pimple Patches]</td>\n",
       "      <td>0.0114</td>\n",
       "      <td>0.160563</td>\n",
       "      <td>2.205541</td>\n",
       "    </tr>\n",
       "    <tr>\n",
       "      <th>37</th>\n",
       "      <td>[Pore Strips]</td>\n",
       "      <td>[Pore Minimizing Serum]</td>\n",
       "      <td>0.0116</td>\n",
       "      <td>0.156757</td>\n",
       "      <td>2.009702</td>\n",
       "    </tr>\n",
       "    <tr>\n",
       "      <th>36</th>\n",
       "      <td>[Pore Minimizing Serum]</td>\n",
       "      <td>[Pore Strips]</td>\n",
       "      <td>0.0116</td>\n",
       "      <td>0.148718</td>\n",
       "      <td>2.009702</td>\n",
       "    </tr>\n",
       "    <tr>\n",
       "      <th>23</th>\n",
       "      <td>[Pore Minimizing Serum]</td>\n",
       "      <td>[Under-Eye Patches]</td>\n",
       "      <td>0.0148</td>\n",
       "      <td>0.189744</td>\n",
       "      <td>1.594484</td>\n",
       "    </tr>\n",
       "    <tr>\n",
       "      <th>22</th>\n",
       "      <td>[Under-Eye Patches]</td>\n",
       "      <td>[Pore Minimizing Serum]</td>\n",
       "      <td>0.0148</td>\n",
       "      <td>0.124370</td>\n",
       "      <td>1.594484</td>\n",
       "    </tr>\n",
       "    <tr>\n",
       "      <th>6</th>\n",
       "      <td>[Eye Gel]</td>\n",
       "      <td>[Eye Cream]</td>\n",
       "      <td>0.0212</td>\n",
       "      <td>0.188948</td>\n",
       "      <td>1.518877</td>\n",
       "    </tr>\n",
       "    <tr>\n",
       "      <th>7</th>\n",
       "      <td>[Eye Cream]</td>\n",
       "      <td>[Eye Gel]</td>\n",
       "      <td>0.0212</td>\n",
       "      <td>0.170418</td>\n",
       "      <td>1.518877</td>\n",
       "    </tr>\n",
       "    <tr>\n",
       "      <th>10</th>\n",
       "      <td>[Pore Minimizing Serum]</td>\n",
       "      <td>[Eye Cream]</td>\n",
       "      <td>0.0144</td>\n",
       "      <td>0.184615</td>\n",
       "      <td>1.484047</td>\n",
       "    </tr>\n",
       "    <tr>\n",
       "      <th>11</th>\n",
       "      <td>[Eye Cream]</td>\n",
       "      <td>[Pore Minimizing Serum]</td>\n",
       "      <td>0.0144</td>\n",
       "      <td>0.115756</td>\n",
       "      <td>1.484047</td>\n",
       "    </tr>\n",
       "  </tbody>\n",
       "</table>\n",
       "</div>"
      ],
      "text/plain": [
       "            antecedent_skus          consequent_skus  support  confidence  \\\n",
       "33         [Pimple Patches]    [Acne Spot Treatment]   0.0114    0.156593   \n",
       "32    [Acne Spot Treatment]         [Pimple Patches]   0.0114    0.160563   \n",
       "37            [Pore Strips]  [Pore Minimizing Serum]   0.0116    0.156757   \n",
       "36  [Pore Minimizing Serum]            [Pore Strips]   0.0116    0.148718   \n",
       "23  [Pore Minimizing Serum]      [Under-Eye Patches]   0.0148    0.189744   \n",
       "22      [Under-Eye Patches]  [Pore Minimizing Serum]   0.0148    0.124370   \n",
       "6                 [Eye Gel]              [Eye Cream]   0.0212    0.188948   \n",
       "7               [Eye Cream]                [Eye Gel]   0.0212    0.170418   \n",
       "10  [Pore Minimizing Serum]              [Eye Cream]   0.0144    0.184615   \n",
       "11              [Eye Cream]  [Pore Minimizing Serum]   0.0144    0.115756   \n",
       "\n",
       "        lift  \n",
       "33  2.205541  \n",
       "32  2.205541  \n",
       "37  2.009702  \n",
       "36  2.009702  \n",
       "23  1.594484  \n",
       "22  1.594484  \n",
       "6   1.518877  \n",
       "7   1.518877  \n",
       "10  1.484047  \n",
       "11  1.484047  "
      ]
     },
     "execution_count": 17,
     "metadata": {},
     "output_type": "execute_result"
    }
   ],
   "source": [
    "# Display sorted rules\n",
    "rules.sort_values(by=\"lift\", ascending=False, inplace=True)\n",
    "rules[['antecedent_skus', 'consequent_skus', 'support', 'confidence', 'lift']].head(10)"
   ]
  },
  {
   "cell_type": "code",
   "execution_count": 25,
   "id": "dbc36d53",
   "metadata": {},
   "outputs": [
    {
     "data": {
      "image/png": "[encoded data removed]",
      "text/plain": [
       "<Figure size 864x432 with 1 Axes>"
      ]
     },
     "metadata": {
      "needs_background": "light"
     },
     "output_type": "display_data"
    }
   ],
   "source": [
    "import matplotlib.pyplot as plt\n",
    "\n",
    "# Sort by lift and take top 10\n",
    "top_rules = rules.sort_values(by='lift', ascending=False).head(15)\n",
    "\n",
    "# Convert frozensets to strings for plotting\n",
    "top_rules['Rule'] = top_rules.apply(lambda row: f\"{', '.join(map(str, row['antecedents']))} → {', '.join(map(str, row['consequents']))}\", axis=1)\n",
    "\n",
    "# Plot\n",
    "plt.figure(figsize=(12, 6))\n",
    "plt.barh(top_rules['Rule'], top_rules['lift'], color='skyblue')\n",
    "plt.xlabel('Lift')\n",
    "plt.title('Top 10 Association Rules by Lift')\n",
    "plt.gca().invert_yaxis()\n",
    "plt.tight_layout()\n",
    "plt.show()\n"
   ]
  },
  {
   "cell_type": "code",
   "execution_count": 28,
   "id": "4a181956",
   "metadata": {},
   "outputs": [],
   "source": [
    "import networkx as nx\n",
    "import matplotlib.pyplot as plt\n",
    "\n",
    "# Use previously created pair_counts from co-occurrence logic (fallback for mlxtend not available)\n",
    "# Filter pairs that occurred together at least 5 times\n",
    "significant_pairs = {pair: count for pair, count in pair_counts.items() if count >= 5}\n",
    "\n",
    "# Build a directed graph where edge direction represents co-purchase association\n",
    "G = nx.DiGraph()\n",
    "for (prod1, prod2), count in significant_pairs.items():\n",
    "    G.add_edge(prod1, prod2, weight=count)\n",
    "\n",
    "# Select top 10 edges by weight for visualization\n",
    "top_edges = sorted(significant_pairs.items(), key=lambda x: x[1], reverse=True)[:10]\n",
    "top_graph = nx.DiGraph()\n",
    "for (prod1, prod2), weight in top_edges:\n",
    "    top_graph.add_edge(prod1, prod2, weight=weight)"
   ]
  },
  {
   "cell_type": "code",
   "execution_count": 30,
   "id": "9bf2e6ee",
   "metadata": {},
   "outputs": [
    {
     "name": "stderr",
     "output_type": "stream",
     "text": [
      "C:\\Users\\natas\\AppData\\Local\\Temp\\ipykernel_14220\\4237728012.py:9: UserWarning: This figure includes Axes that are not compatible with tight_layout, so results might be incorrect.\n",
      "  plt.tight_layout()\n"
     ]
    },
    {
     "data": {
      "image/png": "[encoded data removed]",
      "text/plain": [
       "<Figure size 864x576 with 1 Axes>"
      ]
     },
     "metadata": {},
     "output_type": "display_data"
    }
   ],
   "source": [
    "# Re-draw the same graph with increased spacing\n",
    "plt.figure(figsize=(12, 8))\n",
    "pos = nx.spring_layout(top_graph, seed=42, k=0.7)  # Increase 'k' for more spacing\n",
    "\n",
    "edge_labels = nx.get_edge_attributes(top_graph, 'weight')\n",
    "nx.draw(top_graph, pos, with_labels=True, node_size=1200, node_color='lightgreen', font_size=10, arrows=True)\n",
    "nx.draw_networkx_edge_labels(top_graph, pos, edge_labels=edge_labels, font_size=9)\n",
    "plt.title(\"Top 10 Product Co-Purchase Rules\", fontsize=14)\n",
    "plt.tight_layout()\n",
    "plt.show()\n"
   ]
  },
  {
   "cell_type": "markdown",
   "id": "8e8caeb9",
   "metadata": {},
   "source": [
    "### Making Recommendations"
   ]
  },
  {
   "cell_type": "code",
   "execution_count": 18,
   "id": "69d711d9",
   "metadata": {},
   "outputs": [],
   "source": [
    "# Step 1: Build simple co-occurrence based \"rules\" using product pair frequency\n",
    "from itertools import combinations\n",
    "from collections import defaultdict\n",
    "\n",
    "# Create product pair frequency dictionary\n",
    "pair_counts = defaultdict(int)\n",
    "\n",
    "# Iterate through transactions and count pairs\n",
    "transactions = df.groupby(\"Transaction ID\")[\"Product ID\"].apply(set)\n",
    "for items in transactions:\n",
    "    for item_pair in combinations(sorted(items), 2):\n",
    "        pair_counts[item_pair] += 1"
   ]
  },
  {
   "cell_type": "code",
   "execution_count": 19,
   "id": "9c33d273",
   "metadata": {},
   "outputs": [],
   "source": [
    "# Step 2: Create a mapping from each product to others often bought together\n",
    "product_to_related = defaultdict(set)\n",
    "for (prod1, prod2), count in pair_counts.items():\n",
    "    if count >= 5:  # threshold to filter meaningful associations\n",
    "        product_to_related[prod1].add(prod2)\n",
    "        product_to_related[prod2].add(prod1)"
   ]
  },
  {
   "cell_type": "code",
   "execution_count": 20,
   "id": "d89747c7",
   "metadata": {},
   "outputs": [],
   "source": [
    "# Step 3: Prepare customer-level product history\n",
    "customer_products = df.groupby(\"Customer ID\")[\"Product ID\"].apply(set).reset_index()"
   ]
  },
  {
   "cell_type": "code",
   "execution_count": 21,
   "id": "c91d50c9",
   "metadata": {},
   "outputs": [],
   "source": [
    "# Step 4: Recommend products not already bought but often co-purchased\n",
    "def recommend_from_pairs(purchased):\n",
    "    recommendations = set()\n",
    "    for pid in purchased:\n",
    "        related = product_to_related.get(pid, set())\n",
    "        recommendations.update(related)\n",
    "    return list(recommendations - purchased)\n",
    "\n",
    "customer_products[\"Previous Purchases\"] = customer_products[\"Product ID\"].apply(list)\n",
    "customer_products[\"Recommended Products\"] = customer_products[\"Product ID\"].apply(recommend_from_pairs)"
   ]
  },
  {
   "cell_type": "code",
   "execution_count": 35,
   "id": "2753ec3b",
   "metadata": {},
   "outputs": [],
   "source": [
    "# Limit recommendations to top 5 (already sorted or just first 5 from the list)\n",
    "customer_products[\"Recommended Products\"] = customer_products[\"Recommended Products\"].apply(lambda x: x[:5])\n",
    "\n",
    "# Final formatting and export\n",
    "recommendation_result = customer_products[[\"Customer ID\", \"Previous Purchases\", \"Recommended Products\"]]\n",
    "recommendation_result.to_csv(\"Data/results/Product_Recommendation_Apriori.csv\", index=False)\n"
   ]
  },
  {
   "cell_type": "code",
   "execution_count": 34,
   "id": "7de69596",
   "metadata": {},
   "outputs": [
    {
     "data": {
      "text/html": [
       "<div>\n",
       "<style scoped>\n",
       "    .dataframe tbody tr th:only-of-type {\n",
       "        vertical-align: middle;\n",
       "    }\n",
       "\n",
       "    .dataframe tbody tr th {\n",
       "        vertical-align: top;\n",
       "    }\n",
       "\n",
       "    .dataframe thead th {\n",
       "        text-align: right;\n",
       "    }\n",
       "</style>\n",
       "<table border=\"1\" class=\"dataframe\">\n",
       "  <thead>\n",
       "    <tr style=\"text-align: right;\">\n",
       "      <th></th>\n",
       "      <th>Customer ID</th>\n",
       "      <th>Previous Purchases</th>\n",
       "      <th>Recommended Products</th>\n",
       "    </tr>\n",
       "  </thead>\n",
       "  <tbody>\n",
       "    <tr>\n",
       "      <th>0</th>\n",
       "      <td>1</td>\n",
       "      <td>[1, 34, 35, 4, 5, 36, 3, 40, 2, 39, 46, 47, 48...</td>\n",
       "      <td>[32, 33, 44, 45, 49]</td>\n",
       "    </tr>\n",
       "    <tr>\n",
       "      <th>1</th>\n",
       "      <td>2</td>\n",
       "      <td>[2, 35, 3, 5, 4, 39, 40, 36, 44, 45, 46, 47, 4...</td>\n",
       "      <td>[32, 1, 34, 33, 49]</td>\n",
       "    </tr>\n",
       "    <tr>\n",
       "      <th>2</th>\n",
       "      <td>3</td>\n",
       "      <td>[1, 2, 3, 35, 4, 36, 39, 40, 5, 46, 47, 48, 18...</td>\n",
       "      <td>[32, 33, 34, 44, 45]</td>\n",
       "    </tr>\n",
       "    <tr>\n",
       "      <th>3</th>\n",
       "      <td>4</td>\n",
       "      <td>[2, 35, 4, 5, 36, 39, 40, 34, 47, 48, 20, 21]</td>\n",
       "      <td>[32, 1, 33, 3, 44]</td>\n",
       "    </tr>\n",
       "    <tr>\n",
       "      <th>4</th>\n",
       "      <td>5</td>\n",
       "      <td>[1, 34, 3, 35, 5, 4, 39, 40, 36, 44, 45, 47, 4...</td>\n",
       "      <td>[32, 33, 2, 46, 49]</td>\n",
       "    </tr>\n",
       "  </tbody>\n",
       "</table>\n",
       "</div>"
      ],
      "text/plain": [
       "   Customer ID                                 Previous Purchases  \\\n",
       "0            1  [1, 34, 35, 4, 5, 36, 3, 40, 2, 39, 46, 47, 48...   \n",
       "1            2  [2, 35, 3, 5, 4, 39, 40, 36, 44, 45, 46, 47, 4...   \n",
       "2            3  [1, 2, 3, 35, 4, 36, 39, 40, 5, 46, 47, 48, 18...   \n",
       "3            4      [2, 35, 4, 5, 36, 39, 40, 34, 47, 48, 20, 21]   \n",
       "4            5  [1, 34, 3, 35, 5, 4, 39, 40, 36, 44, 45, 47, 4...   \n",
       "\n",
       "   Recommended Products  \n",
       "0  [32, 33, 44, 45, 49]  \n",
       "1   [32, 1, 34, 33, 49]  \n",
       "2  [32, 33, 34, 44, 45]  \n",
       "3    [32, 1, 33, 3, 44]  \n",
       "4   [32, 33, 2, 46, 49]  "
      ]
     },
     "execution_count": 34,
     "metadata": {},
     "output_type": "execute_result"
    }
   ],
   "source": [
    "recommendation_result.head(5)"
   ]
  },
  {
   "cell_type": "markdown",
   "id": "458a01de",
   "metadata": {},
   "source": [
    "# 🧴 Product Recommendation Example — Customer ID: 1"
   ]
  },
  {
   "cell_type": "code",
   "execution_count": null,
   "id": "4450a66b",
   "metadata": {},
   "outputs": [],
   "source": [
    "filtered_df = full_recommendation_df[full_recommendation_df['Customer ID'] == 238]\n",
    "filtered_df"
   ]
  },
  {
   "cell_type": "markdown",
   "id": "534765d4",
   "metadata": {},
   "source": [
    "### 🧾 Customer Purchase History\n",
    "\n",
    "This customer has previously purchased **18 different skincare products**, including:\n",
    "- **Cleansers:** Gel Cleansers, Oil Cleanser, Micellar Water, Foam Cleanser, Cleansing Balm\n",
    "- **Lip Care:** Lip Balm, Lip Scrub, Lip Mask\n",
    "- **Moisturizers:** Gel Moisturizer, Cream Moisturizer, Oil-Based Moisturizer, Water-Based Moisturizer, Night Cream\n",
    "- **Acne/Pore Care:** Pimple Patches, Acne Spot Treatment, Scar Treatment Cream\n",
    "- **Others:** Post-Sun Care, Healing Ointments\n",
    "\n",
    "---\n",
    "\n",
    "### 💡 Top 5 Recommended Products\n",
    "\n",
    "These recommendations are based on **frequent co-purchase patterns** from other customers in the dataset:\n",
    "\n",
    "| SKU                  | Reason for Recommendation                 | Score |\n",
    "|:----------------------:|:-------------------------------------------:|:--------:|\n",
    "| **Soothing Creams**  | Frequently bought with moisturizers        | 18     |\n",
    "| **Calming Serums**   | Often co-purchased with acne treatments    | 17     |\n",
    "| **Eye Cream**        | Common with night creams & moisturizers    | 13     |\n",
    "| **Eye Gel**          | Bought with eye cream & hydration routines | 13     |\n",
    "| **Under-Eye Patches**| Associated with post-sun & eye care        | 13     |\n",
    "\n",
    "---\n",
    "\n",
    "### ✅ Recommendation Logic\n",
    "\n",
    "- For every product this customer has bought, we analyzed which other products were frequently purchased **together** by other customers.\n",
    "- Each related product received a **score based on co-occurrence frequency**.\n",
    "- Products already purchased by the customer were excluded.\n",
    "- The final recommendation list shows the **Top 5 most frequently co-purchased items**, sorted by relevance.\n",
    "\n",
    "---\n"
   ]
  },
  {
   "cell_type": "code",
   "execution_count": null,
   "id": "c96ae40b",
   "metadata": {},
   "outputs": [],
   "source": []
  }
 ],
 "metadata": {
  "kernelspec": {
   "display_name": "Python 3 (ipykernel)",
   "language": "python",
   "name": "python3"
  },
  "language_info": {
   "codemirror_mode": {
    "name": "ipython",
    "version": 3
   },
   "file_extension": ".py",
   "mimetype": "text/x-python",
   "name": "python",
   "nbconvert_exporter": "python",
   "pygments_lexer": "ipython3",
   "version": "3.9.12"
  }
 },
 "nbformat": 4,
 "nbformat_minor": 5
}
