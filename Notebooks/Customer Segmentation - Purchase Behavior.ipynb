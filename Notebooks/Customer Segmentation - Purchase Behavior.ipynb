{
 "cells": [
  {
   "cell_type": "code",
   "execution_count": 1,
   "id": "d5130c44",
   "metadata": {},
   "outputs": [],
   "source": [
    "import pandas as pd\n",
    "from datetime import datetime"
   ]
  },
  {
   "cell_type": "code",
   "execution_count": 2,
   "id": "adea643c",
   "metadata": {},
   "outputs": [
    {
     "data": {
      "text/html": [
       "<div>\n",
       "<style scoped>\n",
       "    .dataframe tbody tr th:only-of-type {\n",
       "        vertical-align: middle;\n",
       "    }\n",
       "\n",
       "    .dataframe tbody tr th {\n",
       "        vertical-align: top;\n",
       "    }\n",
       "\n",
       "    .dataframe thead th {\n",
       "        text-align: right;\n",
       "    }\n",
       "</style>\n",
       "<table border=\"1\" class=\"dataframe\">\n",
       "  <thead>\n",
       "    <tr style=\"text-align: right;\">\n",
       "      <th></th>\n",
       "      <th>Transaction ID</th>\n",
       "      <th>Customer ID</th>\n",
       "      <th>Product ID</th>\n",
       "      <th>Product Category</th>\n",
       "      <th>Purchase Amount</th>\n",
       "      <th>Purchase Date</th>\n",
       "    </tr>\n",
       "  </thead>\n",
       "  <tbody>\n",
       "    <tr>\n",
       "      <th>0</th>\n",
       "      <td>1</td>\n",
       "      <td>238</td>\n",
       "      <td>45</td>\n",
       "      <td>Sensitive Skin Treatment</td>\n",
       "      <td>25</td>\n",
       "      <td>2024-03-24</td>\n",
       "    </tr>\n",
       "    <tr>\n",
       "      <th>1</th>\n",
       "      <td>1</td>\n",
       "      <td>238</td>\n",
       "      <td>35</td>\n",
       "      <td>Lip Care</td>\n",
       "      <td>15</td>\n",
       "      <td>2024-03-24</td>\n",
       "    </tr>\n",
       "    <tr>\n",
       "      <th>2</th>\n",
       "      <td>1</td>\n",
       "      <td>238</td>\n",
       "      <td>34</td>\n",
       "      <td>Lip Care</td>\n",
       "      <td>5</td>\n",
       "      <td>2024-03-24</td>\n",
       "    </tr>\n",
       "    <tr>\n",
       "      <th>3</th>\n",
       "      <td>1</td>\n",
       "      <td>238</td>\n",
       "      <td>4</td>\n",
       "      <td>Cleansers</td>\n",
       "      <td>20</td>\n",
       "      <td>2024-03-24</td>\n",
       "    </tr>\n",
       "    <tr>\n",
       "      <th>4</th>\n",
       "      <td>1</td>\n",
       "      <td>238</td>\n",
       "      <td>50</td>\n",
       "      <td>Pore Care</td>\n",
       "      <td>20</td>\n",
       "      <td>2024-03-24</td>\n",
       "    </tr>\n",
       "    <tr>\n",
       "      <th>5</th>\n",
       "      <td>2</td>\n",
       "      <td>379</td>\n",
       "      <td>35</td>\n",
       "      <td>Lip Care</td>\n",
       "      <td>15</td>\n",
       "      <td>2024-04-10</td>\n",
       "    </tr>\n",
       "    <tr>\n",
       "      <th>6</th>\n",
       "      <td>2</td>\n",
       "      <td>379</td>\n",
       "      <td>22</td>\n",
       "      <td>Moisturizers</td>\n",
       "      <td>40</td>\n",
       "      <td>2024-04-10</td>\n",
       "    </tr>\n",
       "    <tr>\n",
       "      <th>7</th>\n",
       "      <td>2</td>\n",
       "      <td>379</td>\n",
       "      <td>36</td>\n",
       "      <td>Lip Care</td>\n",
       "      <td>20</td>\n",
       "      <td>2024-04-10</td>\n",
       "    </tr>\n",
       "    <tr>\n",
       "      <th>8</th>\n",
       "      <td>2</td>\n",
       "      <td>379</td>\n",
       "      <td>34</td>\n",
       "      <td>Lip Care</td>\n",
       "      <td>5</td>\n",
       "      <td>2024-04-10</td>\n",
       "    </tr>\n",
       "    <tr>\n",
       "      <th>9</th>\n",
       "      <td>2</td>\n",
       "      <td>379</td>\n",
       "      <td>19</td>\n",
       "      <td>Moisturizers</td>\n",
       "      <td>25</td>\n",
       "      <td>2024-04-10</td>\n",
       "    </tr>\n",
       "  </tbody>\n",
       "</table>\n",
       "</div>"
      ],
      "text/plain": [
       "   Transaction ID  Customer ID  Product ID          Product Category  \\\n",
       "0               1          238          45  Sensitive Skin Treatment   \n",
       "1               1          238          35                  Lip Care   \n",
       "2               1          238          34                  Lip Care   \n",
       "3               1          238           4                 Cleansers   \n",
       "4               1          238          50                 Pore Care   \n",
       "5               2          379          35                  Lip Care   \n",
       "6               2          379          22              Moisturizers   \n",
       "7               2          379          36                  Lip Care   \n",
       "8               2          379          34                  Lip Care   \n",
       "9               2          379          19              Moisturizers   \n",
       "\n",
       "   Purchase Amount Purchase Date  \n",
       "0               25    2024-03-24  \n",
       "1               15    2024-03-24  \n",
       "2                5    2024-03-24  \n",
       "3               20    2024-03-24  \n",
       "4               20    2024-03-24  \n",
       "5               15    2024-04-10  \n",
       "6               40    2024-04-10  \n",
       "7               20    2024-04-10  \n",
       "8                5    2024-04-10  \n",
       "9               25    2024-04-10  "
      ]
     },
     "execution_count": 2,
     "metadata": {},
     "output_type": "execute_result"
    }
   ],
   "source": [
    "df = pd.read_csv('Data/raw_data/Transaction.csv')\n",
    "df.head(10)"
   ]
  },
  {
   "cell_type": "code",
   "execution_count": 3,
   "id": "e3ce4d88",
   "metadata": {},
   "outputs": [],
   "source": [
    "# Convert columns\n",
    "df['Purchase Amount'] = pd.to_numeric(df['Purchase Amount'], errors='coerce')\n",
    "df['Purchase Date'] = pd.to_datetime(df['Purchase Date'])"
   ]
  },
  {
   "cell_type": "markdown",
   "id": "f7b63e91",
   "metadata": {},
   "source": [
    "# A. Segmentation based on Purchase Behavior"
   ]
  },
  {
   "cell_type": "code",
   "execution_count": 4,
   "id": "6f32e187",
   "metadata": {},
   "outputs": [],
   "source": [
    "# ---------------------- 1. Total Spend Segmentation ----------------------\n",
    "total_spend = df.groupby('Customer ID')['Purchase Amount'].sum().reset_index()\n",
    "total_spend.columns = ['Customer ID', 'Total Spend']\n",
    "total_spend_q = total_spend['Total Spend'].quantile([0.2, 0.8]).to_dict()\n",
    "\n",
    "def spend_category(spend):\n",
    "    if spend <= total_spend_q[0.2]:\n",
    "        return 'Low Spender'\n",
    "    elif spend <= total_spend_q[0.8]:\n",
    "        return 'Medium Spender'\n",
    "    else:\n",
    "        return 'High Spender'\n",
    "\n",
    "total_spend['Spend Category'] = total_spend['Total Spend'].apply(spend_category)"
   ]
  },
  {
   "cell_type": "code",
   "execution_count": 5,
   "id": "2724a7c3",
   "metadata": {},
   "outputs": [],
   "source": [
    "# ---------------------- 2. Average Order Value Segmentation ----------------------\n",
    "customer_txn = df.groupby(['Customer ID', 'Transaction ID'])['Purchase Amount'].sum().reset_index()\n",
    "avg_order = customer_txn.groupby('Customer ID')['Purchase Amount'].mean().reset_index()\n",
    "avg_order.columns = ['Customer ID', 'Average Order Value']\n",
    "avg_order['Average Order Value'] = avg_order['Average Order Value'].round(2)\n",
    "avg_order_q = avg_order['Average Order Value'].quantile([0.2, 0.8]).to_dict()\n",
    "\n",
    "def order_value_category(avg):\n",
    "    if avg <= avg_order_q[0.2]:\n",
    "        return 'Budget Buyer'\n",
    "    elif avg <= avg_order_q[0.8]:\n",
    "        return 'Value Shopper'\n",
    "    else:\n",
    "        return 'Big Buyer'\n",
    "\n",
    "avg_order['Order Value Category'] = avg_order['Average Order Value'].apply(order_value_category)"
   ]
  },
  {
   "cell_type": "code",
   "execution_count": 6,
   "id": "1349f270",
   "metadata": {},
   "outputs": [],
   "source": [
    "# ---------------------- 3. Frequency of Purchases Segmentation ----------------------\n",
    "purchase_frequency = df.groupby('Customer ID')['Transaction ID'].nunique().reset_index()\n",
    "purchase_frequency.columns = ['Customer ID', 'Purchase Frequency']\n",
    "\n",
    "def frequency_category(freq):\n",
    "    if freq == 1:\n",
    "        return 'One-time Buyer'\n",
    "    elif freq <= 3:\n",
    "        return 'Occasional Buyer'\n",
    "    else:\n",
    "        return 'Frequent Buyer'\n",
    "\n",
    "purchase_frequency['Frequency Category'] = purchase_frequency['Purchase Frequency'].apply(frequency_category)"
   ]
  },
  {
   "cell_type": "code",
   "execution_count": 8,
   "id": "48921def",
   "metadata": {},
   "outputs": [],
   "source": [
    "# ---------------------- 4. Recency Segmentation ----------------------\n",
    "latest_date = df['Purchase Date'].max()\n",
    "recency_df = df.groupby('Customer ID')['Purchase Date'].max().reset_index()\n",
    "recency_df['Days Since Last Purchase'] = (latest_date - recency_df['Purchase Date']).dt.days\n",
    "\n",
    "def recency_category(days):\n",
    "    if days <= 30:\n",
    "        return 'Active Buyer'\n",
    "    elif days <= 90:\n",
    "        return 'At-risk Buyer'\n",
    "    else:\n",
    "        return 'Lapsed Buyer'\n",
    "\n",
    "recency_df['Recency Category'] = recency_df['Days Since Last Purchase'].apply(recency_category)"
   ]
  },
  {
   "cell_type": "code",
   "execution_count": 9,
   "id": "2faf2339",
   "metadata": {},
   "outputs": [],
   "source": [
    "# ---------------------- Merge All Segmentations ----------------------\n",
    "segmentation = total_spend.merge(avg_order, on='Customer ID')\n",
    "segmentation = segmentation.merge(purchase_frequency, on='Customer ID')\n",
    "segmentation = segmentation.merge(recency_df[['Customer ID', 'Recency Category']], on='Customer ID')"
   ]
  },
  {
   "cell_type": "code",
   "execution_count": 10,
   "id": "d84dbd55",
   "metadata": {},
   "outputs": [
    {
     "data": {
      "text/html": [
       "<div>\n",
       "<style scoped>\n",
       "    .dataframe tbody tr th:only-of-type {\n",
       "        vertical-align: middle;\n",
       "    }\n",
       "\n",
       "    .dataframe tbody tr th {\n",
       "        vertical-align: top;\n",
       "    }\n",
       "\n",
       "    .dataframe thead th {\n",
       "        text-align: right;\n",
       "    }\n",
       "</style>\n",
       "<table border=\"1\" class=\"dataframe\">\n",
       "  <thead>\n",
       "    <tr style=\"text-align: right;\">\n",
       "      <th></th>\n",
       "      <th>Customer ID</th>\n",
       "      <th>Total Spend</th>\n",
       "      <th>Spend Category</th>\n",
       "      <th>Average Order Value</th>\n",
       "      <th>Order Value Category</th>\n",
       "      <th>Purchase Frequency</th>\n",
       "      <th>Frequency Category</th>\n",
       "      <th>Recency Category</th>\n",
       "    </tr>\n",
       "  </thead>\n",
       "  <tbody>\n",
       "    <tr>\n",
       "      <th>0</th>\n",
       "      <td>1</td>\n",
       "      <td>1010</td>\n",
       "      <td>Medium Spender</td>\n",
       "      <td>84.17</td>\n",
       "      <td>Value Shopper</td>\n",
       "      <td>12</td>\n",
       "      <td>Frequent Buyer</td>\n",
       "      <td>At-risk Buyer</td>\n",
       "    </tr>\n",
       "    <tr>\n",
       "      <th>1</th>\n",
       "      <td>2</td>\n",
       "      <td>1370</td>\n",
       "      <td>High Spender</td>\n",
       "      <td>97.86</td>\n",
       "      <td>Value Shopper</td>\n",
       "      <td>14</td>\n",
       "      <td>Frequent Buyer</td>\n",
       "      <td>At-risk Buyer</td>\n",
       "    </tr>\n",
       "    <tr>\n",
       "      <th>2</th>\n",
       "      <td>3</td>\n",
       "      <td>815</td>\n",
       "      <td>Medium Spender</td>\n",
       "      <td>81.50</td>\n",
       "      <td>Value Shopper</td>\n",
       "      <td>10</td>\n",
       "      <td>Frequent Buyer</td>\n",
       "      <td>Active Buyer</td>\n",
       "    </tr>\n",
       "    <tr>\n",
       "      <th>3</th>\n",
       "      <td>4</td>\n",
       "      <td>465</td>\n",
       "      <td>Low Spender</td>\n",
       "      <td>77.50</td>\n",
       "      <td>Budget Buyer</td>\n",
       "      <td>6</td>\n",
       "      <td>Frequent Buyer</td>\n",
       "      <td>Lapsed Buyer</td>\n",
       "    </tr>\n",
       "    <tr>\n",
       "      <th>4</th>\n",
       "      <td>5</td>\n",
       "      <td>760</td>\n",
       "      <td>Medium Spender</td>\n",
       "      <td>84.44</td>\n",
       "      <td>Value Shopper</td>\n",
       "      <td>9</td>\n",
       "      <td>Frequent Buyer</td>\n",
       "      <td>Active Buyer</td>\n",
       "    </tr>\n",
       "    <tr>\n",
       "      <th>5</th>\n",
       "      <td>6</td>\n",
       "      <td>705</td>\n",
       "      <td>Medium Spender</td>\n",
       "      <td>64.09</td>\n",
       "      <td>Budget Buyer</td>\n",
       "      <td>11</td>\n",
       "      <td>Frequent Buyer</td>\n",
       "      <td>At-risk Buyer</td>\n",
       "    </tr>\n",
       "    <tr>\n",
       "      <th>6</th>\n",
       "      <td>7</td>\n",
       "      <td>670</td>\n",
       "      <td>Medium Spender</td>\n",
       "      <td>74.44</td>\n",
       "      <td>Budget Buyer</td>\n",
       "      <td>9</td>\n",
       "      <td>Frequent Buyer</td>\n",
       "      <td>At-risk Buyer</td>\n",
       "    </tr>\n",
       "    <tr>\n",
       "      <th>7</th>\n",
       "      <td>8</td>\n",
       "      <td>790</td>\n",
       "      <td>Medium Spender</td>\n",
       "      <td>87.78</td>\n",
       "      <td>Value Shopper</td>\n",
       "      <td>9</td>\n",
       "      <td>Frequent Buyer</td>\n",
       "      <td>Active Buyer</td>\n",
       "    </tr>\n",
       "    <tr>\n",
       "      <th>8</th>\n",
       "      <td>9</td>\n",
       "      <td>640</td>\n",
       "      <td>Low Spender</td>\n",
       "      <td>80.00</td>\n",
       "      <td>Budget Buyer</td>\n",
       "      <td>8</td>\n",
       "      <td>Frequent Buyer</td>\n",
       "      <td>Active Buyer</td>\n",
       "    </tr>\n",
       "    <tr>\n",
       "      <th>9</th>\n",
       "      <td>10</td>\n",
       "      <td>1190</td>\n",
       "      <td>High Spender</td>\n",
       "      <td>85.00</td>\n",
       "      <td>Value Shopper</td>\n",
       "      <td>14</td>\n",
       "      <td>Frequent Buyer</td>\n",
       "      <td>Active Buyer</td>\n",
       "    </tr>\n",
       "  </tbody>\n",
       "</table>\n",
       "</div>"
      ],
      "text/plain": [
       "   Customer ID  Total Spend  Spend Category  Average Order Value  \\\n",
       "0            1         1010  Medium Spender                84.17   \n",
       "1            2         1370    High Spender                97.86   \n",
       "2            3          815  Medium Spender                81.50   \n",
       "3            4          465     Low Spender                77.50   \n",
       "4            5          760  Medium Spender                84.44   \n",
       "5            6          705  Medium Spender                64.09   \n",
       "6            7          670  Medium Spender                74.44   \n",
       "7            8          790  Medium Spender                87.78   \n",
       "8            9          640     Low Spender                80.00   \n",
       "9           10         1190    High Spender                85.00   \n",
       "\n",
       "  Order Value Category  Purchase Frequency Frequency Category Recency Category  \n",
       "0        Value Shopper                  12     Frequent Buyer    At-risk Buyer  \n",
       "1        Value Shopper                  14     Frequent Buyer    At-risk Buyer  \n",
       "2        Value Shopper                  10     Frequent Buyer     Active Buyer  \n",
       "3         Budget Buyer                   6     Frequent Buyer     Lapsed Buyer  \n",
       "4        Value Shopper                   9     Frequent Buyer     Active Buyer  \n",
       "5         Budget Buyer                  11     Frequent Buyer    At-risk Buyer  \n",
       "6         Budget Buyer                   9     Frequent Buyer    At-risk Buyer  \n",
       "7        Value Shopper                   9     Frequent Buyer     Active Buyer  \n",
       "8         Budget Buyer                   8     Frequent Buyer     Active Buyer  \n",
       "9        Value Shopper                  14     Frequent Buyer     Active Buyer  "
      ]
     },
     "execution_count": 10,
     "metadata": {},
     "output_type": "execute_result"
    }
   ],
   "source": [
    "segmentation.head(10)"
   ]
  },
  {
   "cell_type": "code",
   "execution_count": 11,
   "id": "fc49b3fd",
   "metadata": {},
   "outputs": [],
   "source": [
    "segmentation.to_csv(\"Data/results/Segmentation_based_on_Purchase_Behavior.csv\", index=False)"
   ]
  },
  {
   "cell_type": "markdown",
   "id": "7b7d54c3",
   "metadata": {},
   "source": [
    "# B. Segmentation based on Purchase Patterns\n"
   ]
  },
  {
   "cell_type": "code",
   "execution_count": 13,
   "id": "f5cf2a3b",
   "metadata": {},
   "outputs": [],
   "source": [
    "# Group by Customer ID and count number of unique transactions\n",
    "purchase_counts = df.groupby('Customer ID')['Transaction ID'].nunique().reset_index()\n",
    "purchase_counts.columns = ['Customer ID', 'Purchase Count']"
   ]
  },
  {
   "cell_type": "code",
   "execution_count": 14,
   "id": "f02da407",
   "metadata": {},
   "outputs": [],
   "source": [
    "# Define purchase pattern category\n",
    "def purchase_pattern_category(count):\n",
    "    if count == 1:\n",
    "        return 'New Customer'\n",
    "    elif count >= 5:\n",
    "        return 'Loyal Customer'\n",
    "    else:\n",
    "        return 'Returning Customer'\n",
    "\n",
    "purchase_counts['Purchase Pattern'] = purchase_counts['Purchase Count'].apply(purchase_pattern_category)"
   ]
  },
  {
   "cell_type": "code",
   "execution_count": 15,
   "id": "03f4f340",
   "metadata": {},
   "outputs": [],
   "source": [
    "# ------------------- Seasonal Buyers Segmentation -------------------\n",
    "# Extract month from Purchase Date\n",
    "df['Purchase Month'] = df['Purchase Date'].dt.month\n",
    "\n",
    "# Count number of purchases in each month per customer\n",
    "monthly_purchase = df.groupby(['Customer ID', 'Purchase Month']).size().unstack(fill_value=0)"
   ]
  },
  {
   "cell_type": "code",
   "execution_count": 16,
   "id": "4c5b3243",
   "metadata": {},
   "outputs": [],
   "source": [
    "# Define holiday month(s), here assumed December (12) for this dataset\n",
    "holiday_months = [12]"
   ]
  },
  {
   "cell_type": "code",
   "execution_count": 18,
   "id": "4100e3cd",
   "metadata": {},
   "outputs": [],
   "source": [
    "# Determine buyer seasonality\n",
    "def seasonality_category(row):\n",
    "    total_purchases = row.sum()\n",
    "    holiday_purchases = row[holiday_months].sum()\n",
    "    if holiday_purchases / total_purchases >= 0.6:\n",
    "        return 'Holiday Shopper'\n",
    "    elif row[row > 0].count() >= 6:\n",
    "        return 'Regular Season Buyer'\n",
    "    else:\n",
    "        return 'Off-season Shopper'"
   ]
  },
  {
   "cell_type": "code",
   "execution_count": 19,
   "id": "cdfee739",
   "metadata": {},
   "outputs": [],
   "source": [
    "monthly_purchase['Seasonality Category'] = monthly_purchase.apply(seasonality_category, axis=1)"
   ]
  },
  {
   "cell_type": "code",
   "execution_count": 20,
   "id": "af48d730",
   "metadata": {},
   "outputs": [
    {
     "data": {
      "text/html": [
       "<div>\n",
       "<style scoped>\n",
       "    .dataframe tbody tr th:only-of-type {\n",
       "        vertical-align: middle;\n",
       "    }\n",
       "\n",
       "    .dataframe tbody tr th {\n",
       "        vertical-align: top;\n",
       "    }\n",
       "\n",
       "    .dataframe thead th {\n",
       "        text-align: right;\n",
       "    }\n",
       "</style>\n",
       "<table border=\"1\" class=\"dataframe\">\n",
       "  <thead>\n",
       "    <tr style=\"text-align: right;\">\n",
       "      <th></th>\n",
       "      <th>Customer ID</th>\n",
       "      <th>Purchase Count</th>\n",
       "      <th>Purchase Pattern</th>\n",
       "      <th>Seasonality Category</th>\n",
       "    </tr>\n",
       "  </thead>\n",
       "  <tbody>\n",
       "    <tr>\n",
       "      <th>0</th>\n",
       "      <td>1</td>\n",
       "      <td>12</td>\n",
       "      <td>Loyal Customer</td>\n",
       "      <td>Regular Season Buyer</td>\n",
       "    </tr>\n",
       "    <tr>\n",
       "      <th>1</th>\n",
       "      <td>2</td>\n",
       "      <td>14</td>\n",
       "      <td>Loyal Customer</td>\n",
       "      <td>Regular Season Buyer</td>\n",
       "    </tr>\n",
       "    <tr>\n",
       "      <th>2</th>\n",
       "      <td>3</td>\n",
       "      <td>10</td>\n",
       "      <td>Loyal Customer</td>\n",
       "      <td>Off-season Shopper</td>\n",
       "    </tr>\n",
       "    <tr>\n",
       "      <th>3</th>\n",
       "      <td>4</td>\n",
       "      <td>6</td>\n",
       "      <td>Loyal Customer</td>\n",
       "      <td>Regular Season Buyer</td>\n",
       "    </tr>\n",
       "    <tr>\n",
       "      <th>4</th>\n",
       "      <td>5</td>\n",
       "      <td>9</td>\n",
       "      <td>Loyal Customer</td>\n",
       "      <td>Regular Season Buyer</td>\n",
       "    </tr>\n",
       "    <tr>\n",
       "      <th>5</th>\n",
       "      <td>6</td>\n",
       "      <td>11</td>\n",
       "      <td>Loyal Customer</td>\n",
       "      <td>Regular Season Buyer</td>\n",
       "    </tr>\n",
       "    <tr>\n",
       "      <th>6</th>\n",
       "      <td>7</td>\n",
       "      <td>9</td>\n",
       "      <td>Loyal Customer</td>\n",
       "      <td>Regular Season Buyer</td>\n",
       "    </tr>\n",
       "    <tr>\n",
       "      <th>7</th>\n",
       "      <td>8</td>\n",
       "      <td>9</td>\n",
       "      <td>Loyal Customer</td>\n",
       "      <td>Regular Season Buyer</td>\n",
       "    </tr>\n",
       "    <tr>\n",
       "      <th>8</th>\n",
       "      <td>9</td>\n",
       "      <td>8</td>\n",
       "      <td>Loyal Customer</td>\n",
       "      <td>Regular Season Buyer</td>\n",
       "    </tr>\n",
       "    <tr>\n",
       "      <th>9</th>\n",
       "      <td>10</td>\n",
       "      <td>14</td>\n",
       "      <td>Loyal Customer</td>\n",
       "      <td>Regular Season Buyer</td>\n",
       "    </tr>\n",
       "  </tbody>\n",
       "</table>\n",
       "</div>"
      ],
      "text/plain": [
       "   Customer ID  Purchase Count Purchase Pattern  Seasonality Category\n",
       "0            1              12   Loyal Customer  Regular Season Buyer\n",
       "1            2              14   Loyal Customer  Regular Season Buyer\n",
       "2            3              10   Loyal Customer    Off-season Shopper\n",
       "3            4               6   Loyal Customer  Regular Season Buyer\n",
       "4            5               9   Loyal Customer  Regular Season Buyer\n",
       "5            6              11   Loyal Customer  Regular Season Buyer\n",
       "6            7               9   Loyal Customer  Regular Season Buyer\n",
       "7            8               9   Loyal Customer  Regular Season Buyer\n",
       "8            9               8   Loyal Customer  Regular Season Buyer\n",
       "9           10              14   Loyal Customer  Regular Season Buyer"
      ]
     },
     "execution_count": 20,
     "metadata": {},
     "output_type": "execute_result"
    }
   ],
   "source": [
    "# ------------------- Merge both segmentations -------------------\n",
    "pattern_segmentation = purchase_counts.merge(monthly_purchase[['Seasonality Category']], on='Customer ID')\n",
    "pattern_segmentation.head(10)"
   ]
  },
  {
   "cell_type": "code",
   "execution_count": 38,
   "id": "c5458b27",
   "metadata": {},
   "outputs": [],
   "source": [
    "pattern_segmentation.to_csv(\"Data/results/Segmentation_based_on_Purchase_Pattern.csv\", index=False)"
   ]
  },
  {
   "cell_type": "markdown",
   "id": "cae0ef12",
   "metadata": {},
   "source": [
    "# C. Segmentation based on Basket Composition"
   ]
  },
  {
   "cell_type": "code",
   "execution_count": 22,
   "id": "4a065fbf",
   "metadata": {},
   "outputs": [],
   "source": [
    "# Calculate basket value: total amount per transaction\n",
    "basket_value = df.groupby(['Customer ID', 'Transaction ID'])['Purchase Amount'].sum().reset_index()\n",
    "basket_avg = basket_value.groupby('Customer ID')['Purchase Amount'].mean().reset_index()\n",
    "basket_avg.columns = ['Customer ID', 'Average Basket Value']"
   ]
  },
  {
   "cell_type": "code",
   "execution_count": 23,
   "id": "1ca2ed35",
   "metadata": {},
   "outputs": [],
   "source": [
    "# --------------------- Basket Value Segmentation ---------------------\n",
    "# Quantiles for basket value segmentation\n",
    "basket_quantiles = basket_avg['Average Basket Value'].quantile([0.2, 0.8]).to_dict()\n",
    "\n",
    "# Categorize customers by basket value\n",
    "def basket_value_category(value):\n",
    "    if value <= basket_quantiles[0.2]:\n",
    "        return 'Low Basket Buyer'\n",
    "    elif value <= basket_quantiles[0.8]:\n",
    "        return 'Moderate Basket Buyer'\n",
    "    else:\n",
    "        return 'High Basket Buyer'\n",
    "\n",
    "basket_avg['Basket Value Category'] = basket_avg['Average Basket Value'].apply(basket_value_category)"
   ]
  },
  {
   "cell_type": "code",
   "execution_count": 24,
   "id": "6730b8ce",
   "metadata": {},
   "outputs": [],
   "source": [
    "# Count items per transaction per customer\n",
    "items_per_txn = df.groupby(['Customer ID', 'Transaction ID']).size().reset_index(name='Item Count')\n",
    "avg_items = items_per_txn.groupby('Customer ID')['Item Count'].mean().reset_index()\n",
    "avg_items.columns = ['Customer ID', 'Average Items per Transaction']"
   ]
  },
  {
   "cell_type": "code",
   "execution_count": 33,
   "id": "bc822f75",
   "metadata": {},
   "outputs": [
    {
     "data": {
      "text/plain": [
       "Index(['Customer ID', 'Average Items per Transaction', 'Item Count Category'], dtype='object')"
      ]
     },
     "execution_count": 33,
     "metadata": {},
     "output_type": "execute_result"
    }
   ],
   "source": [
    "avg_items.columns"
   ]
  },
  {
   "cell_type": "code",
   "execution_count": 34,
   "id": "bbb17647",
   "metadata": {},
   "outputs": [],
   "source": [
    "# --------------------- Items per Transaction Segmentation ---------------------\n",
    "# Categorize customers by item count\n",
    "def item_count_category(avg):\n",
    "    if avg <= 2:\n",
    "        return 'Selective Buyer'\n",
    "    elif avg >= 5:\n",
    "        return 'Bulk Buyer'\n",
    "    else:\n",
    "        return 'Mixed Buyer'\n",
    "\n",
    "avg_items['Item Count Category'] = avg_items['Average Items per Transaction'].apply(item_count_category)"
   ]
  },
  {
   "cell_type": "code",
   "execution_count": 36,
   "id": "bcf8b915",
   "metadata": {},
   "outputs": [
    {
     "data": {
      "text/html": [
       "<div>\n",
       "<style scoped>\n",
       "    .dataframe tbody tr th:only-of-type {\n",
       "        vertical-align: middle;\n",
       "    }\n",
       "\n",
       "    .dataframe tbody tr th {\n",
       "        vertical-align: top;\n",
       "    }\n",
       "\n",
       "    .dataframe thead th {\n",
       "        text-align: right;\n",
       "    }\n",
       "</style>\n",
       "<table border=\"1\" class=\"dataframe\">\n",
       "  <thead>\n",
       "    <tr style=\"text-align: right;\">\n",
       "      <th></th>\n",
       "      <th>Customer ID</th>\n",
       "      <th>Average Basket Value</th>\n",
       "      <th>Basket Value Category</th>\n",
       "      <th>Average Items per Transaction</th>\n",
       "      <th>Item Count Category</th>\n",
       "    </tr>\n",
       "  </thead>\n",
       "  <tbody>\n",
       "    <tr>\n",
       "      <th>0</th>\n",
       "      <td>1</td>\n",
       "      <td>84.17</td>\n",
       "      <td>Moderate Basket Buyer</td>\n",
       "      <td>3.58</td>\n",
       "      <td>Mixed Buyer</td>\n",
       "    </tr>\n",
       "    <tr>\n",
       "      <th>1</th>\n",
       "      <td>2</td>\n",
       "      <td>97.86</td>\n",
       "      <td>Moderate Basket Buyer</td>\n",
       "      <td>3.64</td>\n",
       "      <td>Mixed Buyer</td>\n",
       "    </tr>\n",
       "    <tr>\n",
       "      <th>2</th>\n",
       "      <td>3</td>\n",
       "      <td>81.50</td>\n",
       "      <td>Moderate Basket Buyer</td>\n",
       "      <td>3.30</td>\n",
       "      <td>Mixed Buyer</td>\n",
       "    </tr>\n",
       "    <tr>\n",
       "      <th>3</th>\n",
       "      <td>4</td>\n",
       "      <td>77.50</td>\n",
       "      <td>Low Basket Buyer</td>\n",
       "      <td>3.00</td>\n",
       "      <td>Mixed Buyer</td>\n",
       "    </tr>\n",
       "    <tr>\n",
       "      <th>4</th>\n",
       "      <td>5</td>\n",
       "      <td>84.44</td>\n",
       "      <td>Moderate Basket Buyer</td>\n",
       "      <td>3.11</td>\n",
       "      <td>Mixed Buyer</td>\n",
       "    </tr>\n",
       "    <tr>\n",
       "      <th>5</th>\n",
       "      <td>6</td>\n",
       "      <td>64.09</td>\n",
       "      <td>Low Basket Buyer</td>\n",
       "      <td>2.91</td>\n",
       "      <td>Mixed Buyer</td>\n",
       "    </tr>\n",
       "    <tr>\n",
       "      <th>6</th>\n",
       "      <td>7</td>\n",
       "      <td>74.44</td>\n",
       "      <td>Low Basket Buyer</td>\n",
       "      <td>3.11</td>\n",
       "      <td>Mixed Buyer</td>\n",
       "    </tr>\n",
       "    <tr>\n",
       "      <th>7</th>\n",
       "      <td>8</td>\n",
       "      <td>87.78</td>\n",
       "      <td>Moderate Basket Buyer</td>\n",
       "      <td>3.33</td>\n",
       "      <td>Mixed Buyer</td>\n",
       "    </tr>\n",
       "    <tr>\n",
       "      <th>8</th>\n",
       "      <td>9</td>\n",
       "      <td>80.00</td>\n",
       "      <td>Low Basket Buyer</td>\n",
       "      <td>3.38</td>\n",
       "      <td>Mixed Buyer</td>\n",
       "    </tr>\n",
       "    <tr>\n",
       "      <th>9</th>\n",
       "      <td>10</td>\n",
       "      <td>85.00</td>\n",
       "      <td>Moderate Basket Buyer</td>\n",
       "      <td>3.57</td>\n",
       "      <td>Mixed Buyer</td>\n",
       "    </tr>\n",
       "  </tbody>\n",
       "</table>\n",
       "</div>"
      ],
      "text/plain": [
       "   Customer ID  Average Basket Value  Basket Value Category  \\\n",
       "0            1                 84.17  Moderate Basket Buyer   \n",
       "1            2                 97.86  Moderate Basket Buyer   \n",
       "2            3                 81.50  Moderate Basket Buyer   \n",
       "3            4                 77.50       Low Basket Buyer   \n",
       "4            5                 84.44  Moderate Basket Buyer   \n",
       "5            6                 64.09       Low Basket Buyer   \n",
       "6            7                 74.44       Low Basket Buyer   \n",
       "7            8                 87.78  Moderate Basket Buyer   \n",
       "8            9                 80.00       Low Basket Buyer   \n",
       "9           10                 85.00  Moderate Basket Buyer   \n",
       "\n",
       "   Average Items per Transaction Item Count Category  \n",
       "0                           3.58         Mixed Buyer  \n",
       "1                           3.64         Mixed Buyer  \n",
       "2                           3.30         Mixed Buyer  \n",
       "3                           3.00         Mixed Buyer  \n",
       "4                           3.11         Mixed Buyer  \n",
       "5                           2.91         Mixed Buyer  \n",
       "6                           3.11         Mixed Buyer  \n",
       "7                           3.33         Mixed Buyer  \n",
       "8                           3.38         Mixed Buyer  \n",
       "9                           3.57         Mixed Buyer  "
      ]
     },
     "execution_count": 36,
     "metadata": {},
     "output_type": "execute_result"
    }
   ],
   "source": [
    "# --------------------- Merge Segmentations ---------------------\n",
    "basket_segmentation = basket_avg.merge(avg_items, on='Customer ID')\n",
    "basket_segmentation['Average Basket Value'] = basket_segmentation['Average Basket Value'].round(2)\n",
    "basket_segmentation['Average Items per Transaction'] = basket_segmentation['Average Items per Transaction'].round(2)\n",
    "basket_segmentation.head(10)"
   ]
  },
  {
   "cell_type": "code",
   "execution_count": 64,
   "id": "3f2a797d",
   "metadata": {},
   "outputs": [],
   "source": [
    "basket_segmentation.to_csv(\"Data/results/Segmentation_based_on_Basket_Composition.csv\", index=False)"
   ]
  },
  {
   "cell_type": "markdown",
   "id": "6e9f53a9",
   "metadata": {},
   "source": [
    "# Segmentation Strategies"
   ]
  },
  {
   "cell_type": "markdown",
   "id": "40d2261d",
   "metadata": {},
   "source": [
    "|        **Strategy**        |                                                                 **Description**                                                                 |                                      **Benefit**                                      |\n",
    "|:-------------------------:|:--------------------------------------------------------------------------------------------------------------------------------------------------:|:--------------------------------------------------------------------------------------:|\n",
    "| Total Spending Segmentation            | Categorizes customers into Low, Medium, and High Spenders based on cumulative purchase value over time.                                                                      | Enables targeted promotions—budget offers for low spenders, upsells for mid-tier, and VIP perks for top spenders—driving engagement and maximizing revenue. |\n",
    "| Average Spending Segmentation          | Segments customers into Budget Buyers, Value Shoppers, and Big Buyers based on their average spend per transaction.                                                          | Helps tailor product recommendations, pricing, and incentives that align with each group’s spending behavior, increasing order value and satisfaction.       |\n",
    "| Purchase Frequency Segmentation        | Classifies customers as One-time Buyers, Occasional Buyers, or Frequent Buyers based on how often they make purchases.                                                       | Supports retention strategies, identifies loyal customers for rewards, and enables timely re-engagement of less frequent shoppers.                           |\n",
    "| Recency Segmentation (RFM)             | Groups customers into Active, At-risk, and Lapsed Buyers based on how recently they made a purchase.                                                                         | Helps prioritize outreach, reduce churn, and reactivate dormant customers through personalized timing of campaigns.                                           |\n",
    "| Purchase Pattern Segmentation          | Differentiates New Customers (1st purchase), Returning Customers (2–4 purchases), and Loyal Customers (5+ or consistent behavior).                                           | Allows businesses to tailor onboarding, recognition, and loyalty-building efforts to match the customer’s purchase journey.                                  |\n",
    "| Seasonal Buying Behavior               | Categorizes customers into Holiday Shoppers, Regular Season Buyers, and Off-season Shoppers based on the timing of their purchases.                                          | Enables precise campaign scheduling, inventory planning, and seasonal promotion targeting to align with customer shopping behavior.                          |\n",
    "| Basket Value Segmentation             | Segments customers based on the average value of their transaction into Low, Moderate, and High Basket Buyers.                                                                 | Helps identify high-spending customers for premium targeting and optimize promotions to encourage higher value purchases.      |\n",
    "| Items per Transaction Segmentation    | Classifies customers by the average number of items purchased per transaction as Selective Buyers (1–2 items), Mixed Buyers, or Bulk Buyers (5+ items).                       | Enables tailored product bundling, simplifies inventory planning, and supports more relevant marketing messages.               |"
   ]
  },
  {
   "cell_type": "markdown",
   "id": "5eb2083c",
   "metadata": {},
   "source": [
    "# Visualizing Customer Segmentation"
   ]
  },
  {
   "cell_type": "code",
   "execution_count": 41,
   "id": "dcf00c9c",
   "metadata": {},
   "outputs": [],
   "source": [
    "import matplotlib.pyplot as plt"
   ]
  },
  {
   "cell_type": "code",
   "execution_count": 42,
   "id": "6a7c3e44",
   "metadata": {},
   "outputs": [],
   "source": [
    "# 1. Recency Segmentation\n",
    "recency_counts = recency_df['Recency Category'].value_counts()\n",
    "\n",
    "# 2. Purchase Pattern Segmentation: New, Returning, Loyal Customers\n",
    "purchase_pattern_counts = purchase_counts['Purchase Pattern'].value_counts()\n",
    "\n",
    "# 3. Seasonal Buying Behavior\n",
    "seasonality_counts = monthly_purchase['Seasonality Category'].value_counts()\n",
    "\n",
    "# 4. Basket Value Segmentation\n",
    "basket_value_counts = basket_segmentation['Basket Value Category'].value_counts()\n",
    "\n",
    "# 5. Items per Transaction Segmentation\n",
    "item_count_counts = basket_segmentation['Item Count Category'].value_counts()"
   ]
  },
  {
   "cell_type": "code",
   "execution_count": 50,
   "id": "bd09cb64",
   "metadata": {},
   "outputs": [],
   "source": [
    "# Create pie chart function\n",
    "def plot_pie_chart(data, title):\n",
    "    plt.figure(figsize=(5,5))\n",
    "    plt.pie(data.values, labels=data.index, autopct='%1.1f%%', startangle=140, wedgeprops={'edgecolor': 'white'})\n",
    "    plt.title(title)\n",
    "    plt.axis('equal')\n",
    "    plt.tight_layout()\n",
    "    plt.show()"
   ]
  },
  {
   "cell_type": "code",
   "execution_count": 51,
   "id": "09484a6e",
   "metadata": {},
   "outputs": [
    {
     "data": {
      "image/png": "[encoded data removed]",
      "text/plain": [
       "<Figure size 360x360 with 1 Axes>"
      ]
     },
     "metadata": {},
     "output_type": "display_data"
    }
   ],
   "source": [
    "plot_pie_chart(recency_counts, 'Recency Segmentation: Active, At-risk, Lapsed Buyers')"
   ]
  },
  {
   "cell_type": "code",
   "execution_count": 52,
   "id": "34407bf6",
   "metadata": {},
   "outputs": [
    {
     "data": {
      "image/png": "[encoded data removed]",
      "text/plain": [
       "<Figure size 360x360 with 1 Axes>"
      ]
     },
     "metadata": {},
     "output_type": "display_data"
    }
   ],
   "source": [
    "plot_pie_chart(purchase_pattern_counts, 'Purchase Pattern Segmentation: New, Returning, Loyal Customers')"
   ]
  },
  {
   "cell_type": "code",
   "execution_count": 63,
   "id": "1755f3bc",
   "metadata": {},
   "outputs": [
    {
     "data": {
      "image/png": "[encoded data removed]",
      "text/plain": [
       "<Figure size 288x360 with 1 Axes>"
      ]
     },
     "metadata": {},
     "output_type": "display_data"
    }
   ],
   "source": [
    "plot_pie_chart(seasonality_counts, 'Seasonal Buying Behavior: Holiday, Regular Season, Off-season Shoppers')"
   ]
  },
  {
   "cell_type": "code",
   "execution_count": 54,
   "id": "9a8f2431",
   "metadata": {},
   "outputs": [
    {
     "data": {
      "image/png": "[encoded data removed]",
      "text/plain": [
       "<Figure size 360x360 with 1 Axes>"
      ]
     },
     "metadata": {},
     "output_type": "display_data"
    }
   ],
   "source": [
    "plot_pie_chart(basket_value_counts, 'Basket Value Segmentation: Low, Moderate, High Basket Buyers')"
   ]
  },
  {
   "cell_type": "code",
   "execution_count": 55,
   "id": "e4647a93",
   "metadata": {},
   "outputs": [
    {
     "data": {
      "image/png": "[encoded data removed]",
      "text/plain": [
       "<Figure size 360x360 with 1 Axes>"
      ]
     },
     "metadata": {},
     "output_type": "display_data"
    }
   ],
   "source": [
    "plot_pie_chart(item_count_counts, 'Items per Transaction Segmentation: Selective, Mixed, Bulk Buyers')"
   ]
  },
  {
   "cell_type": "code",
   "execution_count": null,
   "id": "26a16139",
   "metadata": {},
   "outputs": [],
   "source": [
    "\n",
    "\n"
   ]
  }
 ],
 "metadata": {
  "kernelspec": {
   "display_name": "Python 3 (ipykernel)",
   "language": "python",
   "name": "python3"
  },
  "language_info": {
   "codemirror_mode": {
    "name": "ipython",
    "version": 3
   },
   "file_extension": ".py",
   "mimetype": "text/x-python",
   "name": "python",
   "nbconvert_exporter": "python",
   "pygments_lexer": "ipython3",
   "version": "3.9.12"
  }
 },
 "nbformat": 4,
 "nbformat_minor": 5
}
