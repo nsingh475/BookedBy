{
 "cells": [
  {
   "cell_type": "code",
   "execution_count": 1,
   "id": "f72fbb9d",
   "metadata": {},
   "outputs": [],
   "source": [
    "import pandas as pd"
   ]
  },
  {
   "cell_type": "code",
   "execution_count": 2,
   "id": "51e5f96f",
   "metadata": {},
   "outputs": [],
   "source": [
    "path = 'Data/raw_data/'\n",
    "file_name = 'Transaction.csv' "
   ]
  },
  {
   "cell_type": "code",
   "execution_count": 4,
   "id": "1db4b0d7",
   "metadata": {},
   "outputs": [
    {
     "data": {
      "text/html": [
       "<div>\n",
       "<style scoped>\n",
       "    .dataframe tbody tr th:only-of-type {\n",
       "        vertical-align: middle;\n",
       "    }\n",
       "\n",
       "    .dataframe tbody tr th {\n",
       "        vertical-align: top;\n",
       "    }\n",
       "\n",
       "    .dataframe thead th {\n",
       "        text-align: right;\n",
       "    }\n",
       "</style>\n",
       "<table border=\"1\" class=\"dataframe\">\n",
       "  <thead>\n",
       "    <tr style=\"text-align: right;\">\n",
       "      <th></th>\n",
       "      <th>Transaction ID</th>\n",
       "      <th>Customer ID</th>\n",
       "      <th>Product ID</th>\n",
       "      <th>Product Category</th>\n",
       "      <th>Purchase Amount</th>\n",
       "      <th>Purchase Date</th>\n",
       "    </tr>\n",
       "  </thead>\n",
       "  <tbody>\n",
       "    <tr>\n",
       "      <th>0</th>\n",
       "      <td>1</td>\n",
       "      <td>238</td>\n",
       "      <td>45</td>\n",
       "      <td>Sensitive Skin Treatment</td>\n",
       "      <td>25</td>\n",
       "      <td>2024-03-24</td>\n",
       "    </tr>\n",
       "    <tr>\n",
       "      <th>1</th>\n",
       "      <td>1</td>\n",
       "      <td>238</td>\n",
       "      <td>35</td>\n",
       "      <td>Lip Care</td>\n",
       "      <td>15</td>\n",
       "      <td>2024-03-24</td>\n",
       "    </tr>\n",
       "  </tbody>\n",
       "</table>\n",
       "</div>"
      ],
      "text/plain": [
       "   Transaction ID  Customer ID  Product ID          Product Category  \\\n",
       "0               1          238          45  Sensitive Skin Treatment   \n",
       "1               1          238          35                  Lip Care   \n",
       "\n",
       "   Purchase Amount Purchase Date  \n",
       "0               25    2024-03-24  \n",
       "1               15    2024-03-24  "
      ]
     },
     "execution_count": 4,
     "metadata": {},
     "output_type": "execute_result"
    }
   ],
   "source": [
    "df = pd.read_csv(path+file_name)\n",
    "df.head(2)"
   ]
  },
  {
   "cell_type": "code",
   "execution_count": 5,
   "id": "10918510",
   "metadata": {},
   "outputs": [],
   "source": [
    "# Convert 'Purchase Date' to datetime\n",
    "df['Purchase Date'] = pd.to_datetime(df['Purchase Date'])"
   ]
  },
  {
   "cell_type": "code",
   "execution_count": 11,
   "id": "d724a74c",
   "metadata": {},
   "outputs": [
    {
     "data": {
      "text/html": [
       "<div>\n",
       "<style scoped>\n",
       "    .dataframe tbody tr th:only-of-type {\n",
       "        vertical-align: middle;\n",
       "    }\n",
       "\n",
       "    .dataframe tbody tr th {\n",
       "        vertical-align: top;\n",
       "    }\n",
       "\n",
       "    .dataframe thead th {\n",
       "        text-align: right;\n",
       "    }\n",
       "</style>\n",
       "<table border=\"1\" class=\"dataframe\">\n",
       "  <thead>\n",
       "    <tr style=\"text-align: right;\">\n",
       "      <th></th>\n",
       "      <th>Product ID</th>\n",
       "      <th>Product Category</th>\n",
       "      <th>SKU</th>\n",
       "      <th>Product Price ($)</th>\n",
       "    </tr>\n",
       "  </thead>\n",
       "  <tbody>\n",
       "    <tr>\n",
       "      <th>0</th>\n",
       "      <td>1</td>\n",
       "      <td>Cleansers</td>\n",
       "      <td>Gel Cleansers</td>\n",
       "      <td>20</td>\n",
       "    </tr>\n",
       "    <tr>\n",
       "      <th>1</th>\n",
       "      <td>2</td>\n",
       "      <td>Cleansers</td>\n",
       "      <td>Foam Cleanser</td>\n",
       "      <td>15</td>\n",
       "    </tr>\n",
       "  </tbody>\n",
       "</table>\n",
       "</div>"
      ],
      "text/plain": [
       "   Product ID Product Category            SKU  Product Price ($)\n",
       "0           1        Cleansers  Gel Cleansers                 20\n",
       "1           2        Cleansers  Foam Cleanser                 15"
      ]
     },
     "execution_count": 11,
     "metadata": {},
     "output_type": "execute_result"
    }
   ],
   "source": [
    "product_file = 'Product.csv'\n",
    "product_df = pd.read_csv(path+product_file)\n",
    "product_df.head(2)"
   ]
  },
  {
   "cell_type": "code",
   "execution_count": 12,
   "id": "ee3f4852",
   "metadata": {},
   "outputs": [
    {
     "data": {
      "text/html": [
       "<div>\n",
       "<style scoped>\n",
       "    .dataframe tbody tr th:only-of-type {\n",
       "        vertical-align: middle;\n",
       "    }\n",
       "\n",
       "    .dataframe tbody tr th {\n",
       "        vertical-align: top;\n",
       "    }\n",
       "\n",
       "    .dataframe thead th {\n",
       "        text-align: right;\n",
       "    }\n",
       "</style>\n",
       "<table border=\"1\" class=\"dataframe\">\n",
       "  <thead>\n",
       "    <tr style=\"text-align: right;\">\n",
       "      <th></th>\n",
       "      <th>Transaction ID</th>\n",
       "      <th>Customer ID</th>\n",
       "      <th>Product ID</th>\n",
       "      <th>Product Category</th>\n",
       "      <th>Purchase Amount</th>\n",
       "      <th>Purchase Date</th>\n",
       "      <th>SKU</th>\n",
       "    </tr>\n",
       "  </thead>\n",
       "  <tbody>\n",
       "    <tr>\n",
       "      <th>0</th>\n",
       "      <td>1</td>\n",
       "      <td>238</td>\n",
       "      <td>45</td>\n",
       "      <td>Sensitive Skin Treatment</td>\n",
       "      <td>25</td>\n",
       "      <td>2024-03-24</td>\n",
       "      <td>Calming Serums</td>\n",
       "    </tr>\n",
       "    <tr>\n",
       "      <th>1</th>\n",
       "      <td>1</td>\n",
       "      <td>238</td>\n",
       "      <td>35</td>\n",
       "      <td>Lip Care</td>\n",
       "      <td>15</td>\n",
       "      <td>2024-03-24</td>\n",
       "      <td>Lip Scrub</td>\n",
       "    </tr>\n",
       "  </tbody>\n",
       "</table>\n",
       "</div>"
      ],
      "text/plain": [
       "   Transaction ID  Customer ID  Product ID          Product Category  \\\n",
       "0               1          238          45  Sensitive Skin Treatment   \n",
       "1               1          238          35                  Lip Care   \n",
       "\n",
       "   Purchase Amount Purchase Date             SKU  \n",
       "0               25    2024-03-24  Calming Serums  \n",
       "1               15    2024-03-24       Lip Scrub  "
      ]
     },
     "execution_count": 12,
     "metadata": {},
     "output_type": "execute_result"
    }
   ],
   "source": [
    "# Merge transaction data with product data to get SKU info\n",
    "merged_df = df.merge(product_df[['Product ID', 'SKU']], on='Product ID', how='left')\n",
    "merged_df.head(2)"
   ]
  },
  {
   "cell_type": "markdown",
   "id": "8fd6f7e1",
   "metadata": {},
   "source": [
    "### Top Selling Products & Catgories"
   ]
  },
  {
   "cell_type": "code",
   "execution_count": 13,
   "id": "90ac53e6",
   "metadata": {},
   "outputs": [],
   "source": [
    "# Identify top-10 selling products\n",
    "top_product_ids = top_products.index.tolist()\n",
    "top_selling_with_sku = product_df[product_df['Product ID'].isin(top_product_ids)][['Product ID', 'SKU']]\n",
    "\n",
    "top_selling_with_sku = top_selling_with_sku.set_index('Product ID').loc[top_product_ids].reset_index()\n",
    "top_selling_with_sku['Sales Count'] = top_products.values"
   ]
  },
  {
   "cell_type": "code",
   "execution_count": 19,
   "id": "0a53113f",
   "metadata": {},
   "outputs": [
    {
     "data": {
      "text/html": [
       "<div>\n",
       "<style scoped>\n",
       "    .dataframe tbody tr th:only-of-type {\n",
       "        vertical-align: middle;\n",
       "    }\n",
       "\n",
       "    .dataframe tbody tr th {\n",
       "        vertical-align: top;\n",
       "    }\n",
       "\n",
       "    .dataframe thead th {\n",
       "        text-align: right;\n",
       "    }\n",
       "</style>\n",
       "<table border=\"1\" class=\"dataframe\">\n",
       "  <thead>\n",
       "    <tr style=\"text-align: right;\">\n",
       "      <th></th>\n",
       "      <th>Product ID</th>\n",
       "      <th>SKU</th>\n",
       "      <th>Sales Count</th>\n",
       "    </tr>\n",
       "  </thead>\n",
       "  <tbody>\n",
       "    <tr>\n",
       "      <th>0</th>\n",
       "      <td>45</td>\n",
       "      <td>Calming Serums</td>\n",
       "      <td>1132</td>\n",
       "    </tr>\n",
       "    <tr>\n",
       "      <th>1</th>\n",
       "      <td>44</td>\n",
       "      <td>Soothing Creams</td>\n",
       "      <td>1081</td>\n",
       "    </tr>\n",
       "    <tr>\n",
       "      <th>2</th>\n",
       "      <td>35</td>\n",
       "      <td>Lip Scrub</td>\n",
       "      <td>928</td>\n",
       "    </tr>\n",
       "    <tr>\n",
       "      <th>3</th>\n",
       "      <td>4</td>\n",
       "      <td>Micellar Water</td>\n",
       "      <td>918</td>\n",
       "    </tr>\n",
       "    <tr>\n",
       "      <th>4</th>\n",
       "      <td>19</td>\n",
       "      <td>Cream Moisturizer</td>\n",
       "      <td>909</td>\n",
       "    </tr>\n",
       "    <tr>\n",
       "      <th>5</th>\n",
       "      <td>18</td>\n",
       "      <td>Gel Moisturizer</td>\n",
       "      <td>898</td>\n",
       "    </tr>\n",
       "    <tr>\n",
       "      <th>6</th>\n",
       "      <td>1</td>\n",
       "      <td>Gel Cleansers</td>\n",
       "      <td>898</td>\n",
       "    </tr>\n",
       "    <tr>\n",
       "      <th>7</th>\n",
       "      <td>21</td>\n",
       "      <td>Water-Based Moisturizer</td>\n",
       "      <td>894</td>\n",
       "    </tr>\n",
       "    <tr>\n",
       "      <th>8</th>\n",
       "      <td>22</td>\n",
       "      <td>Night Cream</td>\n",
       "      <td>886</td>\n",
       "    </tr>\n",
       "    <tr>\n",
       "      <th>9</th>\n",
       "      <td>36</td>\n",
       "      <td>Lip Mask</td>\n",
       "      <td>882</td>\n",
       "    </tr>\n",
       "  </tbody>\n",
       "</table>\n",
       "</div>"
      ],
      "text/plain": [
       "   Product ID                      SKU  Sales Count\n",
       "0          45           Calming Serums         1132\n",
       "1          44          Soothing Creams         1081\n",
       "2          35                Lip Scrub          928\n",
       "3           4           Micellar Water          918\n",
       "4          19        Cream Moisturizer          909\n",
       "5          18          Gel Moisturizer          898\n",
       "6           1            Gel Cleansers          898\n",
       "7          21  Water-Based Moisturizer          894\n",
       "8          22              Night Cream          886\n",
       "9          36                 Lip Mask          882"
      ]
     },
     "execution_count": 19,
     "metadata": {},
     "output_type": "execute_result"
    }
   ],
   "source": [
    "top_selling_with_sku.head(10)"
   ]
  },
  {
   "cell_type": "code",
   "execution_count": 23,
   "id": "f81c88f0",
   "metadata": {},
   "outputs": [],
   "source": [
    "# Identify top-3 selling categories\n",
    "top_category_counts = df['Product Category'].value_counts().head(10).reset_index()\n",
    "top_category_counts.columns = ['Product Category', 'Count']"
   ]
  },
  {
   "cell_type": "code",
   "execution_count": 25,
   "id": "9aed5bf6",
   "metadata": {},
   "outputs": [
    {
     "data": {
      "text/html": [
       "<div>\n",
       "<style scoped>\n",
       "    .dataframe tbody tr th:only-of-type {\n",
       "        vertical-align: middle;\n",
       "    }\n",
       "\n",
       "    .dataframe tbody tr th {\n",
       "        vertical-align: top;\n",
       "    }\n",
       "\n",
       "    .dataframe thead th {\n",
       "        text-align: right;\n",
       "    }\n",
       "</style>\n",
       "<table border=\"1\" class=\"dataframe\">\n",
       "  <thead>\n",
       "    <tr style=\"text-align: right;\">\n",
       "      <th></th>\n",
       "      <th>Product Category</th>\n",
       "      <th>Count</th>\n",
       "    </tr>\n",
       "  </thead>\n",
       "  <tbody>\n",
       "    <tr>\n",
       "      <th>0</th>\n",
       "      <td>Moisturizers</td>\n",
       "      <td>4460</td>\n",
       "    </tr>\n",
       "    <tr>\n",
       "      <th>1</th>\n",
       "      <td>Cleansers</td>\n",
       "      <td>4427</td>\n",
       "    </tr>\n",
       "    <tr>\n",
       "      <th>2</th>\n",
       "      <td>Lip Care</td>\n",
       "      <td>2686</td>\n",
       "    </tr>\n",
       "  </tbody>\n",
       "</table>\n",
       "</div>"
      ],
      "text/plain": [
       "  Product Category  Count\n",
       "0     Moisturizers   4460\n",
       "1        Cleansers   4427\n",
       "2         Lip Care   2686"
      ]
     },
     "execution_count": 25,
     "metadata": {},
     "output_type": "execute_result"
    }
   ],
   "source": [
    "top_category_counts.head(3)"
   ]
  },
  {
   "cell_type": "markdown",
   "id": "3c9f1781",
   "metadata": {},
   "source": [
    "### Average Spending per Customer per Transaction"
   ]
  },
  {
   "cell_type": "code",
   "execution_count": 28,
   "id": "af7c9e09",
   "metadata": {},
   "outputs": [],
   "source": [
    "# Group by Transaction ID to get total spending per transaction\n",
    "transaction_spending = df.groupby('Transaction ID').agg({\n",
    "    'Customer ID': 'first',  # assuming one customer per transaction\n",
    "    'Purchase Amount': 'sum'\n",
    "}).reset_index()\n",
    "\n",
    "# Group by Customer ID to calculate average transaction spending per customer\n",
    "customer_avg_spending = transaction_spending.groupby('Customer ID')['Purchase Amount'].agg(\n",
    "    Total_Spending='sum',\n",
    "    Number_of_Transactions='count',\n",
    "    Average_Spending_Per_Transaction='mean'\n",
    ").reset_index()\n",
    "\n",
    "customer_avg_spending['Average_Spending_Per_Transaction'] = customer_avg_spending['Average_Spending_Per_Transaction'].round(2)"
   ]
  },
  {
   "cell_type": "code",
   "execution_count": 29,
   "id": "ea99e913",
   "metadata": {},
   "outputs": [
    {
     "data": {
      "text/html": [
       "<div>\n",
       "<style scoped>\n",
       "    .dataframe tbody tr th:only-of-type {\n",
       "        vertical-align: middle;\n",
       "    }\n",
       "\n",
       "    .dataframe tbody tr th {\n",
       "        vertical-align: top;\n",
       "    }\n",
       "\n",
       "    .dataframe thead th {\n",
       "        text-align: right;\n",
       "    }\n",
       "</style>\n",
       "<table border=\"1\" class=\"dataframe\">\n",
       "  <thead>\n",
       "    <tr style=\"text-align: right;\">\n",
       "      <th></th>\n",
       "      <th>Customer ID</th>\n",
       "      <th>Total_Spending</th>\n",
       "      <th>Number_of_Transactions</th>\n",
       "      <th>Average_Spending_Per_Transaction</th>\n",
       "    </tr>\n",
       "  </thead>\n",
       "  <tbody>\n",
       "    <tr>\n",
       "      <th>0</th>\n",
       "      <td>1</td>\n",
       "      <td>1010</td>\n",
       "      <td>12</td>\n",
       "      <td>84.17</td>\n",
       "    </tr>\n",
       "    <tr>\n",
       "      <th>1</th>\n",
       "      <td>2</td>\n",
       "      <td>1370</td>\n",
       "      <td>14</td>\n",
       "      <td>97.86</td>\n",
       "    </tr>\n",
       "    <tr>\n",
       "      <th>2</th>\n",
       "      <td>3</td>\n",
       "      <td>815</td>\n",
       "      <td>10</td>\n",
       "      <td>81.50</td>\n",
       "    </tr>\n",
       "    <tr>\n",
       "      <th>3</th>\n",
       "      <td>4</td>\n",
       "      <td>465</td>\n",
       "      <td>6</td>\n",
       "      <td>77.50</td>\n",
       "    </tr>\n",
       "    <tr>\n",
       "      <th>4</th>\n",
       "      <td>5</td>\n",
       "      <td>760</td>\n",
       "      <td>9</td>\n",
       "      <td>84.44</td>\n",
       "    </tr>\n",
       "    <tr>\n",
       "      <th>5</th>\n",
       "      <td>6</td>\n",
       "      <td>705</td>\n",
       "      <td>11</td>\n",
       "      <td>64.09</td>\n",
       "    </tr>\n",
       "    <tr>\n",
       "      <th>6</th>\n",
       "      <td>7</td>\n",
       "      <td>670</td>\n",
       "      <td>9</td>\n",
       "      <td>74.44</td>\n",
       "    </tr>\n",
       "    <tr>\n",
       "      <th>7</th>\n",
       "      <td>8</td>\n",
       "      <td>790</td>\n",
       "      <td>9</td>\n",
       "      <td>87.78</td>\n",
       "    </tr>\n",
       "    <tr>\n",
       "      <th>8</th>\n",
       "      <td>9</td>\n",
       "      <td>640</td>\n",
       "      <td>8</td>\n",
       "      <td>80.00</td>\n",
       "    </tr>\n",
       "    <tr>\n",
       "      <th>9</th>\n",
       "      <td>10</td>\n",
       "      <td>1190</td>\n",
       "      <td>14</td>\n",
       "      <td>85.00</td>\n",
       "    </tr>\n",
       "  </tbody>\n",
       "</table>\n",
       "</div>"
      ],
      "text/plain": [
       "   Customer ID  Total_Spending  Number_of_Transactions  \\\n",
       "0            1            1010                      12   \n",
       "1            2            1370                      14   \n",
       "2            3             815                      10   \n",
       "3            4             465                       6   \n",
       "4            5             760                       9   \n",
       "5            6             705                      11   \n",
       "6            7             670                       9   \n",
       "7            8             790                       9   \n",
       "8            9             640                       8   \n",
       "9           10            1190                      14   \n",
       "\n",
       "   Average_Spending_Per_Transaction  \n",
       "0                             84.17  \n",
       "1                             97.86  \n",
       "2                             81.50  \n",
       "3                             77.50  \n",
       "4                             84.44  \n",
       "5                             64.09  \n",
       "6                             74.44  \n",
       "7                             87.78  \n",
       "8                             80.00  \n",
       "9                             85.00  "
      ]
     },
     "execution_count": 29,
     "metadata": {},
     "output_type": "execute_result"
    }
   ],
   "source": [
    "customer_avg_spending.head(10)"
   ]
  },
  {
   "cell_type": "markdown",
   "id": "f1e95247",
   "metadata": {},
   "source": [
    "### Average Spending per Transaction"
   ]
  },
  {
   "cell_type": "code",
   "execution_count": 30,
   "id": "db08ee25",
   "metadata": {},
   "outputs": [
    {
     "name": "stdout",
     "output_type": "stream",
     "text": [
      "90.73\n"
     ]
    }
   ],
   "source": [
    "# Calculate total and average spending per transaction\n",
    "transaction_summary = df.groupby('Transaction ID').agg(\n",
    "    Customer_ID=('Customer ID', 'first'),\n",
    "    Transaction_Spending=('Purchase Amount', 'sum')\n",
    ").reset_index()\n",
    "\n",
    "average_transaction_spending = transaction_summary['Transaction_Spending'].mean()\n",
    "average_transaction_spending = round(average_transaction_spending, 2)\n",
    "\n",
    "print(average_transaction_spending)"
   ]
  },
  {
   "cell_type": "code",
   "execution_count": 33,
   "id": "4eb39733",
   "metadata": {},
   "outputs": [
    {
     "name": "stdout",
     "output_type": "stream",
     "text": [
      "20 200\n"
     ]
    }
   ],
   "source": [
    "# Find lowest and highest spending in a transaction\n",
    "min_transaction_spending = transaction_summary['Transaction_Spending'].min()\n",
    "max_transaction_spending = transaction_summary['Transaction_Spending'].max()\n",
    "\n",
    "print(min_transaction_spending, max_transaction_spending)"
   ]
  },
  {
   "cell_type": "code",
   "execution_count": null,
   "id": "a9883814",
   "metadata": {},
   "outputs": [],
   "source": []
  }
 ],
 "metadata": {
  "kernelspec": {
   "display_name": "Python 3 (ipykernel)",
   "language": "python",
   "name": "python3"
  },
  "language_info": {
   "codemirror_mode": {
    "name": "ipython",
    "version": 3
   },
   "file_extension": ".py",
   "mimetype": "text/x-python",
   "name": "python",
   "nbconvert_exporter": "python",
   "pygments_lexer": "ipython3",
   "version": "3.9.12"
  }
 },
 "nbformat": 4,
 "nbformat_minor": 5
}
